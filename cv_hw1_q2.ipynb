{
  "nbformat": 4,
  "nbformat_minor": 0,
  "metadata": {
    "colab": {
      "provenance": []
    },
    "kernelspec": {
      "name": "python3",
      "display_name": "Python 3"
    },
    "language_info": {
      "name": "python"
    }
  },
  "cells": [
    {
      "cell_type": "code",
      "execution_count": 1,
      "metadata": {
        "colab": {
          "base_uri": "https://localhost:8080/"
        },
        "id": "QVdDuMz1Bzqa",
        "outputId": "a68dbaf1-0f8f-4fad-cc38-dc22a53f5ecb"
      },
      "outputs": [
        {
          "output_type": "stream",
          "name": "stdout",
          "text": [
            "Image saved to output_image.png\n"
          ]
        }
      ],
      "source": [
        "from PIL import Image\n",
        "file_path = 'input1.txt'\n",
        "with open(file_path, 'r') as file:\n",
        "    lines = file.readlines()\n",
        "    width, height, _ = map(int, lines[0].split())\n",
        "    pixels = []\n",
        "    for line in lines[1:]:\n",
        "        pixel_data = line.replace('(', '').replace(')', ',').replace('\\n', '').split(', ')\n",
        "        pixels.extend((int(pixel_data[i]), int(pixel_data[i+1]), int(pixel_data[i+2])) for i in range(0, len(pixel_data) -1, 3))\n",
        "image = Image.new(\"RGB\", ( height, width))\n",
        "image.putdata(pixels)\n",
        "output_path = 'output_image.png'\n",
        "image.save(output_path)\n",
        "print(f\"Image saved to {output_path}\")"
      ]
    },
    {
      "cell_type": "code",
      "source": [
        "import cv2\n",
        "from google.colab.patches import cv2_imshow\n",
        "import numpy as np\n",
        "from skimage import exposure\n",
        "\n",
        "image = cv2.imread('output_image.png')\n",
        "gray = cv2.cvtColor(image, cv2.COLOR_BGR2GRAY)\n",
        "\n",
        "equalized = exposure.equalize_adapthist(gray, clip_limit=0.03)\n",
        "equalized = (equalized * 255).astype(np.uint8)\n",
        "_, thresholded = cv2.threshold(equalized, 150, 255, cv2.THRESH_BINARY)\n",
        "kernel = np.ones((3, 3), np.uint8)\n",
        "cleaned = cv2.morphologyEx(thresholded, cv2.MORPH_OPEN, kernel)\n",
        "min_star_size = 10\n",
        "contours, _ = cv2.findContours(cleaned, cv2.RETR_EXTERNAL, cv2.CHAIN_APPROX_SIMPLE)\n",
        "mask = np.zeros_like(cleaned)\n",
        "for contour in contours:\n",
        "    if cv2.contourArea(contour) >= min_star_size:\n",
        "        cv2.drawContours(mask, [contour], -1, 255, thickness=cv2.FILLED)\n",
        "cv2.imwrite('filtered_stars_mask.jpg', mask)\n"
      ],
      "metadata": {
        "colab": {
          "base_uri": "https://localhost:8080/"
        },
        "id": "e4bQwOiqIw_2",
        "outputId": "8eb096d6-27ce-4d38-bfdb-f4973f938689"
      },
      "execution_count": 2,
      "outputs": [
        {
          "output_type": "execute_result",
          "data": {
            "text/plain": [
              "True"
            ]
          },
          "metadata": {},
          "execution_count": 2
        }
      ]
    },
    {
      "cell_type": "code",
      "source": [
        "import cv2\n",
        "import numpy as np\n",
        "from scipy.ndimage import label, find_objects\n",
        "mask = cv2.imread('filtered_stars_mask.jpg', cv2.IMREAD_GRAYSCALE)\n",
        "_, binary_mask = cv2.threshold(mask, 127, 255, cv2.THRESH_BINARY)\n",
        "labeled_array, num_features = label(binary_mask)\n",
        "print(\"Number of stars detected:\", num_features)\n",
        "star_centers = []\n",
        "for i in range(1, num_features + 1):\n",
        "    slices = find_objects(labeled_array == i)\n",
        "    if slices:\n",
        "        y_slice, x_slice = slices[0]\n",
        "        cX = int((x_slice.start + x_slice.stop - 1) / 2)\n",
        "        cY = int((y_slice.start + y_slice.stop - 1) / 2)\n",
        "        star_centers.append((cX, cY))\n",
        "print(\"Coordinates of stars:\")\n",
        "for i, (x, y) in enumerate(star_centers):\n",
        "    print(f\"Star {i+1}: ({x}, {y})\")"
      ],
      "metadata": {
        "colab": {
          "base_uri": "https://localhost:8080/"
        },
        "id": "R_xAIBDaKj9W",
        "outputId": "464bc723-0863-42f1-e120-13da4276d8c0"
      },
      "execution_count": 3,
      "outputs": [
        {
          "output_type": "stream",
          "name": "stdout",
          "text": [
            "Number of stars detected: 11\n",
            "Coordinates of stars:\n",
            "Star 1: (90, 131)\n",
            "Star 2: (147, 135)\n",
            "Star 3: (155, 143)\n",
            "Star 4: (157, 153)\n",
            "Star 5: (57, 171)\n",
            "Star 6: (118, 206)\n",
            "Star 7: (22, 216)\n",
            "Star 8: (154, 218)\n",
            "Star 9: (156, 260)\n",
            "Star 10: (233, 271)\n",
            "Star 11: (225, 297)\n"
          ]
        }
      ]
    }
  ]
}